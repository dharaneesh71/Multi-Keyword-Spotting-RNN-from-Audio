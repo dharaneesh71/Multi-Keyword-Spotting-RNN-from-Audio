{
  "nbformat": 4,
  "nbformat_minor": 0,
  "metadata": {
    "colab": {
      "provenance": []
    },
    "kernelspec": {
      "name": "python3",
      "display_name": "Python 3"
    },
    "language_info": {
      "name": "python"
    }
  },
  "cells": [
    {
      "cell_type": "code",
      "execution_count": null,
      "metadata": {
        "colab": {
          "base_uri": "https://localhost:8080/"
        },
        "id": "2jYU-yj0DuRT",
        "outputId": "c2f92296-8da9-44dc-cb62-9d53f59b15ca"
      },
      "outputs": [
        {
          "output_type": "stream",
          "name": "stdout",
          "text": [
            "Collecting pydub\n",
            "  Downloading pydub-0.25.1-py2.py3-none-any.whl (32 kB)\n",
            "Installing collected packages: pydub\n",
            "Successfully installed pydub-0.25.1\n"
          ]
        }
      ],
      "source": [
        "!pip install pydub"
      ]
    },
    {
      "cell_type": "code",
      "source": [
        "from google.colab import drive\n",
        "drive.mount('/content/drive')"
      ],
      "metadata": {
        "colab": {
          "base_uri": "https://localhost:8080/"
        },
        "id": "SOqxmMDeDyQY",
        "outputId": "4a639838-75d9-423e-ed7b-0277049b8667"
      },
      "execution_count": null,
      "outputs": [
        {
          "output_type": "stream",
          "name": "stdout",
          "text": [
            "Mounted at /content/drive\n"
          ]
        }
      ]
    },
    {
      "cell_type": "code",
      "source": [
        "import os\n",
        "\n",
        "audio_dataset_path = '/content/drive/MyDrive/Samsung/Audio_Dataset'\n",
        "words = sorted(os.listdir(audio_dataset_path))"
      ],
      "metadata": {
        "id": "DEE2T6zID-vq"
      },
      "execution_count": null,
      "outputs": []
    },
    {
      "cell_type": "code",
      "source": [
        "from pydub import AudioSegment\n",
        "\n",
        "import os\n",
        "from pydub import AudioSegment\n",
        "\n",
        "def convert_and_rename_audio_files(input_folder, output_folder, word):\n",
        "\n",
        "    audio_extensions = ('.mp3', '.wav', '.flac', '.ogg', '.m4a', '.aac', '.wma', '.aiff', '.aif', '.au', '.mp4', '.ape', '.ac3', '.amr', '.caf')\n",
        "    audio_files = [f for f in os.listdir(input_folder) if f.endswith(audio_extensions)]\n",
        "    audio_files.sort()\n",
        "    selected_files = audio_files[:20]\n",
        "\n",
        "    for i, file in enumerate(selected_files, start=1):\n",
        "        audio_path = os.path.join(input_folder, file)\n",
        "        new_name = f\"{word}_{i:04d}.wav\"\n",
        "        output_path = os.path.join(output_folder, new_name)\n",
        "\n",
        "        if os.path.exists(output_path):\n",
        "            continue\n",
        "\n",
        "        audio = AudioSegment.from_file(audio_path)\n",
        "        audio = audio.set_channels(1)\n",
        "        audio.export(output_path, format=\"wav\")\n",
        "    print(f'Completed Audio Conversion for {word}')\n",
        "\n",
        "input_path = '/content/drive/MyDrive/Samsung/Audio_Dataset'\n",
        "output_path = '/content/drive/MyDrive/Samsung/Audio_Dataset_6'\n",
        "words = sorted(os.listdir(input_path))\n",
        "for word in words :\n",
        "  input_folder = os.path.join(input_path, word)\n",
        "  output_folder = os.path.join(output_path, word)\n",
        "  convert_and_rename_audio_files(input_folder, output_folder, word)\n"
      ],
      "metadata": {
        "id": "BPq41HX0EOrZ"
      },
      "execution_count": null,
      "outputs": []
    },
    {
      "cell_type": "code",
      "source": [
        "print(f'Total Number of Words : {len(os.listdir(output_path))}')"
      ],
      "metadata": {
        "colab": {
          "base_uri": "https://localhost:8080/"
        },
        "id": "-Vr_vJOdEr4Q",
        "outputId": "d949965a-30bf-4137-8980-8d57d8a7f12b"
      },
      "execution_count": null,
      "outputs": [
        {
          "output_type": "stream",
          "name": "stdout",
          "text": [
            "Total Number of Words : 50\n"
          ]
        }
      ]
    },
    {
      "cell_type": "code",
      "source": [
        "print(f'Finding Words with Stereo Audio')\n",
        "words = os.listdir(output_path)\n",
        "for word in words :\n",
        "  f = 0\n",
        "  path = os.path.join(output_path, word)\n",
        "  for f in os.listdir(path) :\n",
        "    audio_path = os.path.join(path, f)\n",
        "    audio = AudioSegment.from_file(audio_path)\n",
        "    if audio.channels != 1:\n",
        "      f = 1\n",
        "  if f == 1 :\n",
        "    print(word)"
      ],
      "metadata": {
        "colab": {
          "base_uri": "https://localhost:8080/"
        },
        "id": "vfZQM77zTp5s",
        "outputId": "047fbd5e-bd90-4030-e6b1-9142b7300cd2"
      },
      "execution_count": null,
      "outputs": [
        {
          "output_type": "stream",
          "name": "stdout",
          "text": [
            "Finding Words with Stereo Audio\n"
          ]
        }
      ]
    },
    {
      "cell_type": "code",
      "source": [],
      "metadata": {
        "id": "reO2EXI2VUDx"
      },
      "execution_count": null,
      "outputs": []
    }
  ]
}