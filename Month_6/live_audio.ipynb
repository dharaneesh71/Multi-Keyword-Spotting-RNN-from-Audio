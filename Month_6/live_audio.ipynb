{
 "cells": [
  {
   "cell_type": "code",
   "execution_count": 56,
   "metadata": {},
   "outputs": [],
   "source": [
    "import tensorflow as tf\n",
    "model_crnn_2 = tf.saved_model.load(\"saved_3/models/model_crnn_2\")"
   ]
  },
  {
   "cell_type": "code",
   "execution_count": 116,
   "metadata": {},
   "outputs": [
    {
     "name": "stdout",
     "output_type": "stream",
     "text": [
      "Recording...\n",
      "Audio recorded and saved as recorded_audio.wav\n"
     ]
    }
   ],
   "source": [
    "import sounddevice as sd\n",
    "import scipy.io.wavfile as wav\n",
    "\n",
    "# Sampling rate\n",
    "fs = 64000\n",
    "\n",
    "# Recording duration in seconds\n",
    "duration = 2  # You can change this according to your requirement\n",
    "\n",
    "# Record audio\n",
    "print(\"Recording...\")\n",
    "audio_data = sd.rec(int(duration * fs), samplerate=fs, channels=1, dtype='int16')\n",
    "sd.wait()\n",
    "\n",
    "# Save audio to a .wav file\n",
    "filename = \"recorded_audio.wav\"\n",
    "wav.write(filename, fs, audio_data)\n",
    "\n",
    "print(f\"Audio recorded and saved as {filename}\")\n"
   ]
  },
  {
   "cell_type": "code",
   "execution_count": 117,
   "metadata": {},
   "outputs": [],
   "source": [
    "\n",
    "audio_file = 'recorded_audio.wav'\n",
    "output_tensor = model_crnn_2(tf.constant(audio_file))[\"class_names\"]\n",
    "output_string = output_tensor.numpy()[0].decode('utf-8')\n"
   ]
  },
  {
   "cell_type": "code",
   "execution_count": 118,
   "metadata": {},
   "outputs": [
    {
     "data": {
      "text/plain": [
       "'Soap'"
      ]
     },
     "execution_count": 118,
     "metadata": {},
     "output_type": "execute_result"
    }
   ],
   "source": [
    "output_string"
   ]
  },
  {
   "cell_type": "code",
   "execution_count": 89,
   "metadata": {},
   "outputs": [
    {
     "data": {
      "text/plain": [
       "{'predictions': <tf.Tensor: shape=(1, 52), dtype=float32, numpy=\n",
       " array([[4.9540399e-06, 5.2949144e-08, 9.6561644e-07, 4.1366802e-04,\n",
       "         3.1361029e-05, 1.3454606e-08, 1.5665240e-04, 1.2687845e-07,\n",
       "         8.8797913e-07, 1.1960552e-05, 5.7129975e-05, 3.0032800e-07,\n",
       "         4.6173514e-06, 7.9843883e-09, 8.1487460e-06, 4.3625886e-07,\n",
       "         3.5640706e-08, 9.3414700e-03, 1.1672621e-06, 7.1269356e-02,\n",
       "         2.7491578e-07, 3.7843520e-07, 3.8380881e-06, 8.0517674e-04,\n",
       "         2.0122210e-05, 1.0691815e-04, 1.6567996e-07, 1.4184772e-07,\n",
       "         4.7233402e-07, 4.8574954e-01, 1.0576512e-03, 1.5831223e-08,\n",
       "         6.8440926e-07, 1.2455197e-06, 1.7065196e-06, 3.4257057e-01,\n",
       "         1.7890571e-04, 1.2585704e-06, 7.7964411e-05, 6.6751562e-04,\n",
       "         8.6189225e-02, 2.6507571e-04, 2.4220790e-06, 1.5229523e-07,\n",
       "         2.1302346e-04, 5.7819834e-05, 7.2244270e-04, 5.5189435e-07,\n",
       "         4.3452967e-08, 6.1592226e-07, 7.5769412e-07, 3.9274664e-09]],\n",
       "       dtype=float32)>,\n",
       " 'class_ids': <tf.Tensor: shape=(1,), dtype=int64, numpy=array([29])>,\n",
       " 'class_names': <tf.Tensor: shape=(1,), dtype=string, numpy=array([b'Netflix'], dtype=object)>}"
      ]
     },
     "execution_count": 89,
     "metadata": {},
     "output_type": "execute_result"
    }
   ],
   "source": [
    "model_crnn_2(tf.constant(audio_file))"
   ]
  },
  {
   "cell_type": "code",
   "execution_count": null,
   "metadata": {},
   "outputs": [],
   "source": []
  }
 ],
 "metadata": {
  "kernelspec": {
   "display_name": "base",
   "language": "python",
   "name": "python3"
  },
  "language_info": {
   "codemirror_mode": {
    "name": "ipython",
    "version": 3
   },
   "file_extension": ".py",
   "mimetype": "text/x-python",
   "name": "python",
   "nbconvert_exporter": "python",
   "pygments_lexer": "ipython3",
   "version": "3.10.10"
  }
 },
 "nbformat": 4,
 "nbformat_minor": 2
}
